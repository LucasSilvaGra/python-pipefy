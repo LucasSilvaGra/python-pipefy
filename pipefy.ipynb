{
 "cells": [
  {
   "cell_type": "code",
   "execution_count": 1,
   "id": "e08e13e9",
   "metadata": {},
   "outputs": [],
   "source": [
    "import requests\n",
    "import json\n",
    "import re\n",
    "import os\n",
    "import time\n",
    "from src.navegador.navegador import Navegador\n",
    "from selenium.webdriver.common.by import By\n",
    "from src.utils import utils\n",
    "from pathlib import Path"
   ]
  },
  {
   "cell_type": "code",
   "execution_count": null,
   "id": "d299b901",
   "metadata": {},
   "outputs": [],
   "source": [
    "class Pipefy(object):\n",
    "    \"\"\" Integration class with Pipefy rest api. \"\"\"\n",
    "\n",
    "    def __init__(self, token=None, login=None, senha=None):\n",
    "        if token:\n",
    "            self.token = token if 'Bearer' in token else 'Bearer %s' % token\n",
    "        else:\n",
    "            self.token = None\n",
    "\n",
    "        self.login = login\n",
    "        self.senha = senha\n",
    "        \n",
    "        self.headers = {'Content-Type': 'application/json', 'Authorization': self.token}\n",
    "        self.endpoint = 'https://app.pipefy.com/graphql'\n",
    "\n",
    "    def fazer_login(self,  link=None, caminho_downloads=None, options=None):\n",
    "        #Verificar se Caminho_Downloads foi preenchido e caso não, utilizar download Padrão do Windows\n",
    "        if not caminho_downloads:\n",
    "            caminho_downloads = str(Path.home() / \"Downloads\")\n",
    "\n",
    "        #Verificar se Link foi preenchido e caso não, utilizar Link Padrão do Pipefy\n",
    "        if not link:\n",
    "            link = 'https://app.pipefy.com'\n",
    "\n",
    "        #Abrir Navegador utilizando Link definido\n",
    "        navegador = Navegador(link, caminho_downloads=caminho_downloads, options=options)\n",
    "\n",
    "        #Preencher Login\n",
    "        navegador.identifica_elemento_name('username').send_keys(self.login)\n",
    "\n",
    "        #Clica no botão continuar\n",
    "        navegador.identifica_elemento_id('kc-login').click()\n",
    "\n",
    "        #Preencher Senha\n",
    "        navegador.identifica_elemento_name('password').send_keys(self.senha)\n",
    "\n",
    "        #Clicar no Botão Enviar\n",
    "        navegador.identifica_elemento_id('kc-login').click()\n",
    "\n",
    "        #Troca para a aba pricipal do código\n",
    "        navegador.switch_to.window(navegador.window_handles[0]) \n",
    "\n",
    "        #Retorna o Object Navegador \n",
    "        return navegador\n",
    "    \n",
    "    def baixar_relatorio_pipefy_rpa(self, id_report, id_pipe, caminho_download=None, options=None):\n",
    "\n",
    "        #Verificar Caminho_Downloads\n",
    "        if not caminho_download:\n",
    "            caminho_download = utils.obter_caminho_downloads()\n",
    "\n",
    "        #Define quantidade de Arquivos Antes do Download\n",
    "        Quantidade_Arquivos_Antes = len(os.listdir(caminho_download))\n",
    "\n",
    "        #Definir Link do relatório\n",
    "        link_report = f\"https://app.pipefy.com/pipes/{str(id_pipe)}/reports_v2/{str(id_report)}\"\n",
    "\n",
    "        #Abrir Navegador utilizando Link do Relatório\n",
    "        navegador = self.fazer_login(link=link_report, caminho_downloads=caminho_download, options=options)\n",
    "\n",
    "        #Clicar no botão Exportar\n",
    "        navegador.clica_elemento_xpath(\"//button[@data-testid='report-export']\")\n",
    "\n",
    "        #Clicar no botão Download\n",
    "        navegador.clica_elemento_xpath(\"//button[@title='Download']\")\n",
    "\n",
    "        #Aguardar Barra de Carregamento Sumir\n",
    "        texto_aguardando = 'x'\n",
    "        while texto_aguardando != \"\":\n",
    "            try:\n",
    "                texto_aguardando = \"\"\n",
    "                texto_aguardando = navegador.find_element(By.XPATH, '//div[@class=\"pp-modals-wrapper \"]').text\n",
    "            except:\n",
    "                pass\n",
    "        \n",
    "        utils.aguardar_arquivo_baixar(Quantidade_Arquivos_Antes=Quantidade_Arquivos_Antes, timeout=360, caminho_downloads=caminho_download)\n",
    "\n",
    "        #Retorna o último Arquivo Baixado na pasta de Download\n",
    "        return utils.obter_ultimo_arquivo(caminho_download)"
   ]
  },
  {
   "cell_type": "code",
   "execution_count": 3,
   "id": "cdb2d7ab",
   "metadata": {},
   "outputs": [],
   "source": [
    "pipefy = Pipefy(login=\"system.robotic@rjzcyrela.com.br\", senha=\"@Iops.2023\")"
   ]
  },
  {
   "cell_type": "code",
   "execution_count": null,
   "id": "9baaaba4",
   "metadata": {},
   "outputs": [
    {
     "data": {
      "text/plain": [
       "'C:\\\\Users\\\\Lucas.Graca\\\\Downloads\\\\relatrio___io_ps_11-04-2025 (1).xlsx'"
      ]
     },
     "execution_count": 4,
     "metadata": {},
     "output_type": "execute_result"
    }
   ],
   "source": [
    "arquivo = pipefy.baixar_relatorio_pipefy_rpa(id_pipe=303525543,id_report=300523529)"
   ]
  }
 ],
 "metadata": {
  "kernelspec": {
   "display_name": "Python 3",
   "language": "python",
   "name": "python3"
  },
  "language_info": {
   "codemirror_mode": {
    "name": "ipython",
    "version": 3
   },
   "file_extension": ".py",
   "mimetype": "text/x-python",
   "name": "python",
   "nbconvert_exporter": "python",
   "pygments_lexer": "ipython3",
   "version": "3.10.12"
  }
 },
 "nbformat": 4,
 "nbformat_minor": 5
}
